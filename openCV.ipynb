{
 "cells": [
  {
   "cell_type": "code",
   "execution_count": 9,
   "metadata": {},
   "outputs": [],
   "source": [
    "import cv2\n",
    "import matplotlib.pyplot as plt"
   ]
  },
  {
   "cell_type": "code",
   "execution_count": 16,
   "metadata": {},
   "outputs": [],
   "source": [
    "img = cv2.imread('C:/Users/ASUS/Pictures/Camera Roll/2.jpg',-1)"
   ]
  },
  {
   "cell_type": "code",
   "execution_count": 17,
   "metadata": {},
   "outputs": [
    {
     "name": "stdout",
     "output_type": "stream",
     "text": [
      "[[[ 24  22  28]\n",
      "  [ 26  24  30]\n",
      "  [ 29  28  32]\n",
      "  ...\n",
      "  [187 149  84]\n",
      "  [186 148  83]\n",
      "  [185 147  82]]\n",
      "\n",
      " [[ 27  25  31]\n",
      "  [ 28  26  32]\n",
      "  [ 30  29  33]\n",
      "  ...\n",
      "  [185 147  83]\n",
      "  [183 145  81]\n",
      "  [181 143  79]]\n",
      "\n",
      " [[ 26  27  31]\n",
      "  [ 27  28  32]\n",
      "  [ 28  29  33]\n",
      "  ...\n",
      "  [184 147  85]\n",
      "  [179 142  80]\n",
      "  [176 139  77]]\n",
      "\n",
      " ...\n",
      "\n",
      " [[ 16  34  41]\n",
      "  [ 14  34  39]\n",
      "  [ 17  35  42]\n",
      "  ...\n",
      "  [ 41  42  40]\n",
      "  [ 36  36  36]\n",
      "  [ 31  33  33]]\n",
      "\n",
      " [[ 13  32  40]\n",
      "  [ 10  32  38]\n",
      "  [ 13  32  40]\n",
      "  ...\n",
      "  [ 45  43  43]\n",
      "  [ 40  37  39]\n",
      "  [ 35  34  36]]\n",
      "\n",
      " [[ 11  32  40]\n",
      "  [ 10  31  39]\n",
      "  [ 12  33  41]\n",
      "  ...\n",
      "  [ 45  40  41]\n",
      "  [ 38  35  37]\n",
      "  [ 35  32  34]]]\n"
     ]
    }
   ],
   "source": [
    "print(img)"
   ]
  },
  {
   "cell_type": "code",
   "execution_count": 18,
   "metadata": {},
   "outputs": [],
   "source": [
    "cv2.imshow('qwer',img)\n",
    "cv2.waitKey(0)\n",
    "cv2.destroyAllWindows()"
   ]
  },
  {
   "cell_type": "markdown",
   "metadata": {},
   "source": []
  }
 ],
 "metadata": {
  "kernelspec": {
   "display_name": "Python 3",
   "language": "python",
   "name": "python3"
  },
  "language_info": {
   "codemirror_mode": {
    "name": "ipython",
    "version": 3
   },
   "file_extension": ".py",
   "mimetype": "text/x-python",
   "name": "python",
   "nbconvert_exporter": "python",
   "pygments_lexer": "ipython3",
   "version": "3.7.3"
  }
 },
 "nbformat": 4,
 "nbformat_minor": 2
}
