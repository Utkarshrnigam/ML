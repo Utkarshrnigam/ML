{
 "cells": [
  {
   "cell_type": "code",
   "execution_count": 210,
   "metadata": {},
   "outputs": [],
   "source": [
    "import keras\n",
    "import numpy as np\n",
    "import pandas as pd\n",
    "import matplotlib.pyplot as plt"
   ]
  },
  {
   "cell_type": "code",
   "execution_count": 211,
   "metadata": {},
   "outputs": [],
   "source": [
    "X_train = pd.read_csv(\"./Dataset/classy_points/Logistic_X_Train.csv\")\n",
    "Y_train = pd.read_csv(\"./Dataset/classy_points/Logistic_Y_Train.csv\")"
   ]
  },
  {
   "cell_type": "code",
   "execution_count": 212,
   "metadata": {},
   "outputs": [],
   "source": [
    "X_train = X_train.values\n",
    "Y_train = Y_train.values"
   ]
  },
  {
   "cell_type": "code",
   "execution_count": 213,
   "metadata": {},
   "outputs": [
    {
     "name": "stdout",
     "output_type": "stream",
     "text": [
      "(2250, 2) (2250, 1)\n"
     ]
    }
   ],
   "source": [
    "print(X_train.shape,Y_train.shape)"
   ]
  },
  {
   "cell_type": "code",
   "execution_count": 214,
   "metadata": {},
   "outputs": [],
   "source": [
    "from keras import models\n",
    "from keras.layers import Dense"
   ]
  },
  {
   "cell_type": "code",
   "execution_count": 215,
   "metadata": {},
   "outputs": [],
   "source": [
    "model = models.Sequential()\n",
    "\n",
    "model.add(Dense(10,activation='relu',input_shape=(2,)))\n",
    "model.add(Dense(5,activation='relu'))\n",
    "model.add(Dense(1,activation='sigmoid'))\n",
    "\n",
    "model.compile(optimizer='adam',loss='binary_crossentropy',metrics=['accuracy'])"
   ]
  },
  {
   "cell_type": "code",
   "execution_count": 216,
   "metadata": {},
   "outputs": [
    {
     "name": "stdout",
     "output_type": "stream",
     "text": [
      "_________________________________________________________________\n",
      "Layer (type)                 Output Shape              Param #   \n",
      "=================================================================\n",
      "dense_58 (Dense)             (None, 10)                30        \n",
      "_________________________________________________________________\n",
      "dense_59 (Dense)             (None, 5)                 55        \n",
      "_________________________________________________________________\n",
      "dense_60 (Dense)             (None, 1)                 6         \n",
      "=================================================================\n",
      "Total params: 91\n",
      "Trainable params: 91\n",
      "Non-trainable params: 0\n",
      "_________________________________________________________________\n"
     ]
    }
   ],
   "source": [
    "model.summary()"
   ]
  },
  {
   "cell_type": "code",
   "execution_count": 217,
   "metadata": {},
   "outputs": [],
   "source": [
    "x_val = X_train[:250]\n",
    "y_val = Y_train[:250]\n",
    "\n",
    "X_newTrain = X_train[250:]\n",
    "Y_newTrain = Y_train[250:]"
   ]
  },
  {
   "cell_type": "code",
   "execution_count": 218,
   "metadata": {},
   "outputs": [
    {
     "name": "stdout",
     "output_type": "stream",
     "text": [
      "Train on 2250 samples, validate on 250 samples\n",
      "Epoch 1/70\n",
      "2250/2250 [==============================] - 1s 545us/step - loss: 0.6755 - acc: 0.6911 - val_loss: 0.6451 - val_acc: 0.7200\n",
      "Epoch 2/70\n",
      "2250/2250 [==============================] - 0s 24us/step - loss: 0.6071 - acc: 0.7324 - val_loss: 0.5652 - val_acc: 0.7600\n",
      "Epoch 3/70\n",
      "2250/2250 [==============================] - 0s 27us/step - loss: 0.5249 - acc: 0.7818 - val_loss: 0.4843 - val_acc: 0.8280\n",
      "Epoch 4/70\n",
      "2250/2250 [==============================] - 0s 30us/step - loss: 0.4509 - acc: 0.8387 - val_loss: 0.4222 - val_acc: 0.8440\n",
      "Epoch 5/70\n",
      "2250/2250 [==============================] - 0s 31us/step - loss: 0.3989 - acc: 0.8622 - val_loss: 0.3797 - val_acc: 0.8520\n",
      "Epoch 6/70\n",
      "2250/2250 [==============================] - 0s 30us/step - loss: 0.3628 - acc: 0.8671 - val_loss: 0.3498 - val_acc: 0.8560\n",
      "Epoch 7/70\n",
      "2250/2250 [==============================] - 0s 28us/step - loss: 0.3370 - acc: 0.8662 - val_loss: 0.3287 - val_acc: 0.8560\n",
      "Epoch 8/70\n",
      "2250/2250 [==============================] - 0s 28us/step - loss: 0.3184 - acc: 0.8707 - val_loss: 0.3128 - val_acc: 0.8560\n",
      "Epoch 9/70\n",
      "2250/2250 [==============================] - 0s 31us/step - loss: 0.3047 - acc: 0.8729 - val_loss: 0.3004 - val_acc: 0.8640\n",
      "Epoch 10/70\n",
      "2250/2250 [==============================] - 0s 28us/step - loss: 0.2942 - acc: 0.8760 - val_loss: 0.2906 - val_acc: 0.8640\n",
      "Epoch 11/70\n",
      "2250/2250 [==============================] - 0s 32us/step - loss: 0.2854 - acc: 0.8800 - val_loss: 0.2821 - val_acc: 0.8720\n",
      "Epoch 12/70\n",
      "2250/2250 [==============================] - 0s 29us/step - loss: 0.2782 - acc: 0.8836 - val_loss: 0.2747 - val_acc: 0.8720\n",
      "Epoch 13/70\n",
      "2250/2250 [==============================] - 0s 30us/step - loss: 0.2719 - acc: 0.8853 - val_loss: 0.2677 - val_acc: 0.8680\n",
      "Epoch 14/70\n",
      "2250/2250 [==============================] - 0s 36us/step - loss: 0.2658 - acc: 0.8880 - val_loss: 0.2603 - val_acc: 0.8680\n",
      "Epoch 15/70\n",
      "2250/2250 [==============================] - 0s 39us/step - loss: 0.2603 - acc: 0.8893 - val_loss: 0.2543 - val_acc: 0.8800\n",
      "Epoch 16/70\n",
      "2250/2250 [==============================] - 0s 39us/step - loss: 0.2554 - acc: 0.8920 - val_loss: 0.2479 - val_acc: 0.8760\n",
      "Epoch 17/70\n",
      "2250/2250 [==============================] - 0s 36us/step - loss: 0.2494 - acc: 0.8933 - val_loss: 0.2411 - val_acc: 0.8760\n",
      "Epoch 18/70\n",
      "2250/2250 [==============================] - 0s 38us/step - loss: 0.2439 - acc: 0.8982 - val_loss: 0.2329 - val_acc: 0.8880\n",
      "Epoch 19/70\n",
      "2250/2250 [==============================] - 0s 37us/step - loss: 0.2375 - acc: 0.9000 - val_loss: 0.2269 - val_acc: 0.8960\n",
      "Epoch 20/70\n",
      "2250/2250 [==============================] - 0s 42us/step - loss: 0.2329 - acc: 0.9013 - val_loss: 0.2219 - val_acc: 0.8960\n",
      "Epoch 21/70\n",
      "2250/2250 [==============================] - 0s 36us/step - loss: 0.2285 - acc: 0.9031 - val_loss: 0.2172 - val_acc: 0.9040\n",
      "Epoch 22/70\n",
      "2250/2250 [==============================] - ETA: 0s - loss: 0.2223 - acc: 0.910 - 0s 43us/step - loss: 0.2236 - acc: 0.9089 - val_loss: 0.2122 - val_acc: 0.9080\n",
      "Epoch 23/70\n",
      "2250/2250 [==============================] - 0s 36us/step - loss: 0.2190 - acc: 0.9098 - val_loss: 0.2068 - val_acc: 0.9080\n",
      "Epoch 24/70\n",
      "2250/2250 [==============================] - 0s 34us/step - loss: 0.2149 - acc: 0.9116 - val_loss: 0.2027 - val_acc: 0.9080\n",
      "Epoch 25/70\n",
      "2250/2250 [==============================] - 0s 30us/step - loss: 0.2109 - acc: 0.9151 - val_loss: 0.1978 - val_acc: 0.9160\n",
      "Epoch 26/70\n",
      "2250/2250 [==============================] - 0s 30us/step - loss: 0.2065 - acc: 0.9178 - val_loss: 0.1944 - val_acc: 0.9240\n",
      "Epoch 27/70\n",
      "2250/2250 [==============================] - 0s 35us/step - loss: 0.2027 - acc: 0.9200 - val_loss: 0.1904 - val_acc: 0.9200\n",
      "Epoch 28/70\n",
      "2250/2250 [==============================] - 0s 31us/step - loss: 0.2000 - acc: 0.9236 - val_loss: 0.1871 - val_acc: 0.9280\n",
      "Epoch 29/70\n",
      "2250/2250 [==============================] - 0s 30us/step - loss: 0.1948 - acc: 0.9236 - val_loss: 0.1831 - val_acc: 0.9280\n",
      "Epoch 30/70\n",
      "2250/2250 [==============================] - 0s 31us/step - loss: 0.1913 - acc: 0.9253 - val_loss: 0.1787 - val_acc: 0.9360\n",
      "Epoch 31/70\n",
      "2250/2250 [==============================] - 0s 30us/step - loss: 0.1874 - acc: 0.9289 - val_loss: 0.1759 - val_acc: 0.9400\n",
      "Epoch 32/70\n",
      "2250/2250 [==============================] - 0s 31us/step - loss: 0.1843 - acc: 0.9302 - val_loss: 0.1722 - val_acc: 0.9440\n",
      "Epoch 33/70\n",
      "2250/2250 [==============================] - 0s 31us/step - loss: 0.1798 - acc: 0.9333 - val_loss: 0.1688 - val_acc: 0.9480\n",
      "Epoch 34/70\n",
      "2250/2250 [==============================] - 0s 29us/step - loss: 0.1760 - acc: 0.9342 - val_loss: 0.1664 - val_acc: 0.9480\n",
      "Epoch 35/70\n",
      "2250/2250 [==============================] - 0s 30us/step - loss: 0.1732 - acc: 0.9351 - val_loss: 0.1623 - val_acc: 0.9560\n",
      "Epoch 36/70\n",
      "2250/2250 [==============================] - 0s 33us/step - loss: 0.1698 - acc: 0.9360 - val_loss: 0.1592 - val_acc: 0.9560\n",
      "Epoch 37/70\n",
      "2250/2250 [==============================] - 0s 33us/step - loss: 0.1660 - acc: 0.9364 - val_loss: 0.1562 - val_acc: 0.9600\n",
      "Epoch 38/70\n",
      "2250/2250 [==============================] - 0s 33us/step - loss: 0.1626 - acc: 0.9391 - val_loss: 0.1533 - val_acc: 0.9600\n",
      "Epoch 39/70\n",
      "2250/2250 [==============================] - 0s 33us/step - loss: 0.1592 - acc: 0.9400 - val_loss: 0.1508 - val_acc: 0.9560\n",
      "Epoch 40/70\n",
      "2250/2250 [==============================] - 0s 33us/step - loss: 0.1562 - acc: 0.9413 - val_loss: 0.1479 - val_acc: 0.9600\n",
      "Epoch 41/70\n",
      "2250/2250 [==============================] - 0s 33us/step - loss: 0.1531 - acc: 0.9436 - val_loss: 0.1452 - val_acc: 0.9600\n",
      "Epoch 42/70\n",
      "2250/2250 [==============================] - 0s 33us/step - loss: 0.1503 - acc: 0.9440 - val_loss: 0.1430 - val_acc: 0.9600\n",
      "Epoch 43/70\n",
      "2250/2250 [==============================] - 0s 32us/step - loss: 0.1475 - acc: 0.9440 - val_loss: 0.1405 - val_acc: 0.9600\n",
      "Epoch 44/70\n",
      "2250/2250 [==============================] - 0s 35us/step - loss: 0.1448 - acc: 0.9467 - val_loss: 0.1386 - val_acc: 0.9560\n",
      "Epoch 45/70\n",
      "2250/2250 [==============================] - 0s 32us/step - loss: 0.1426 - acc: 0.9467 - val_loss: 0.1362 - val_acc: 0.9600\n",
      "Epoch 46/70\n",
      "2250/2250 [==============================] - 0s 33us/step - loss: 0.1400 - acc: 0.9489 - val_loss: 0.1347 - val_acc: 0.9600\n",
      "Epoch 47/70\n",
      "2250/2250 [==============================] - 0s 31us/step - loss: 0.1375 - acc: 0.9493 - val_loss: 0.1320 - val_acc: 0.9640\n",
      "Epoch 48/70\n",
      "2250/2250 [==============================] - 0s 32us/step - loss: 0.1353 - acc: 0.9484 - val_loss: 0.1303 - val_acc: 0.9640\n",
      "Epoch 49/70\n",
      "2250/2250 [==============================] - 0s 35us/step - loss: 0.1333 - acc: 0.9511 - val_loss: 0.1292 - val_acc: 0.9640\n",
      "Epoch 50/70\n",
      "2250/2250 [==============================] - 0s 33us/step - loss: 0.1316 - acc: 0.9511 - val_loss: 0.1274 - val_acc: 0.9640\n",
      "Epoch 51/70\n",
      "2250/2250 [==============================] - 0s 32us/step - loss: 0.1291 - acc: 0.9524 - val_loss: 0.1252 - val_acc: 0.9640\n",
      "Epoch 52/70\n",
      "2250/2250 [==============================] - 0s 33us/step - loss: 0.1274 - acc: 0.9547 - val_loss: 0.1245 - val_acc: 0.9640\n",
      "Epoch 53/70\n",
      "2250/2250 [==============================] - 0s 33us/step - loss: 0.1260 - acc: 0.9538 - val_loss: 0.1229 - val_acc: 0.9640\n",
      "Epoch 54/70\n",
      "2250/2250 [==============================] - 0s 35us/step - loss: 0.1243 - acc: 0.9533 - val_loss: 0.1224 - val_acc: 0.9640\n",
      "Epoch 55/70\n",
      "2250/2250 [==============================] - 0s 36us/step - loss: 0.1229 - acc: 0.9547 - val_loss: 0.1212 - val_acc: 0.9640\n",
      "Epoch 56/70\n",
      "2250/2250 [==============================] - 0s 32us/step - loss: 0.1211 - acc: 0.9560 - val_loss: 0.1202 - val_acc: 0.9640\n",
      "Epoch 57/70\n",
      "2250/2250 [==============================] - 0s 33us/step - loss: 0.1206 - acc: 0.9556 - val_loss: 0.1179 - val_acc: 0.9640\n",
      "Epoch 58/70\n",
      "2250/2250 [==============================] - 0s 30us/step - loss: 0.1190 - acc: 0.9547 - val_loss: 0.1168 - val_acc: 0.9680\n",
      "Epoch 59/70\n",
      "2250/2250 [==============================] - 0s 31us/step - loss: 0.1174 - acc: 0.9560 - val_loss: 0.1161 - val_acc: 0.9640\n",
      "Epoch 60/70\n"
     ]
    },
    {
     "name": "stdout",
     "output_type": "stream",
     "text": [
      "2250/2250 [==============================] - 0s 30us/step - loss: 0.1164 - acc: 0.9556 - val_loss: 0.1146 - val_acc: 0.9680\n",
      "Epoch 61/70\n",
      "2250/2250 [==============================] - 0s 29us/step - loss: 0.1153 - acc: 0.9573 - val_loss: 0.1139 - val_acc: 0.9640\n",
      "Epoch 62/70\n",
      "2250/2250 [==============================] - 0s 25us/step - loss: 0.1144 - acc: 0.9578 - val_loss: 0.1130 - val_acc: 0.9680\n",
      "Epoch 63/70\n",
      "2250/2250 [==============================] - 0s 32us/step - loss: 0.1128 - acc: 0.9569 - val_loss: 0.1119 - val_acc: 0.9640\n",
      "Epoch 64/70\n",
      "2250/2250 [==============================] - 0s 30us/step - loss: 0.1123 - acc: 0.9600 - val_loss: 0.1116 - val_acc: 0.9640\n",
      "Epoch 65/70\n",
      "2250/2250 [==============================] - 0s 28us/step - loss: 0.1118 - acc: 0.9604 - val_loss: 0.1120 - val_acc: 0.9600\n",
      "Epoch 66/70\n",
      "2250/2250 [==============================] - 0s 29us/step - loss: 0.1105 - acc: 0.9604 - val_loss: 0.1113 - val_acc: 0.9680\n",
      "Epoch 67/70\n",
      "2250/2250 [==============================] - 0s 29us/step - loss: 0.1091 - acc: 0.9604 - val_loss: 0.1095 - val_acc: 0.9680\n",
      "Epoch 68/70\n",
      "2250/2250 [==============================] - 0s 33us/step - loss: 0.1086 - acc: 0.9604 - val_loss: 0.1089 - val_acc: 0.9680\n",
      "Epoch 69/70\n",
      "2250/2250 [==============================] - 0s 35us/step - loss: 0.1077 - acc: 0.9627 - val_loss: 0.1082 - val_acc: 0.9720\n",
      "Epoch 70/70\n",
      "2250/2250 [==============================] - 0s 33us/step - loss: 0.1083 - acc: 0.9627 - val_loss: 0.1083 - val_acc: 0.9680\n"
     ]
    }
   ],
   "source": [
    "hist = model.fit(X_train,Y_train,epochs=70,batch_size=64,validation_data =(x_val,y_val))"
   ]
  },
  {
   "cell_type": "code",
   "execution_count": 219,
   "metadata": {},
   "outputs": [],
   "source": [
    "h = hist.history"
   ]
  },
  {
   "cell_type": "code",
   "execution_count": 220,
   "metadata": {},
   "outputs": [
    {
     "data": {
      "text/plain": [
       "<matplotlib.legend.Legend at 0x1da33a184e0>"
      ]
     },
     "execution_count": 220,
     "metadata": {},
     "output_type": "execute_result"
    },
    {
     "data": {
      "image/png": "[encoded data removed]",
      "text/plain": [
       "<Figure size 432x288 with 1 Axes>"
      ]
     },
     "metadata": {
      "needs_background": "light"
     },
     "output_type": "display_data"
    }
   ],
   "source": [
    "plt.plot(h['val_acc'],label=\"val_acc\")\n",
    "plt.plot(h['acc'],label=\"acc\")\n",
    "plt.legend()"
   ]
  },
  {
   "cell_type": "code",
   "execution_count": 221,
   "metadata": {},
   "outputs": [
    {
     "name": "stdout",
     "output_type": "stream",
     "text": [
      "2250/2250 [==============================] - 0s 27us/step\n"
     ]
    },
    {
     "data": {
      "text/plain": [
       "0.9622222221162584"
      ]
     },
     "execution_count": 221,
     "metadata": {},
     "output_type": "execute_result"
    }
   ],
   "source": [
    "model.evaluate(X_train,Y_train)[1]"
   ]
  },
  {
   "cell_type": "code",
   "execution_count": 222,
   "metadata": {},
   "outputs": [],
   "source": [
    "X_test = pd.read_csv(\"./Dataset/classy_points/Logistic_X_Test.csv\")\n",
    "X_test = X_test.values"
   ]
  },
  {
   "cell_type": "code",
   "execution_count": 223,
   "metadata": {},
   "outputs": [],
   "source": [
    "output = model.predict(X_test)"
   ]
  },
  {
   "cell_type": "code",
   "execution_count": 225,
   "metadata": {},
   "outputs": [],
   "source": [
    "newOutput = []\n",
    "m = output.shape[0]\n",
    "for i in range(m):\n",
    "    if output[i]>=0.5:\n",
    "        newOutput.append(\"1\")\n",
    "    else:\n",
    "        newOutput.append(\"0\")"
   ]
  },
  {
   "cell_type": "code",
   "execution_count": 227,
   "metadata": {},
   "outputs": [
    {
     "name": "stdout",
     "output_type": "stream",
     "text": [
      "['0', '0', '1', '0', '1', '0', '0', '0', '1', '0', '1', '1', '0', '1', '1', '1', '0', '0', '1', '0', '0', '1', '1', '0', '1', '0', '0', '0', '0', '0', '1', '0', '1', '0', '0', '1', '1', '0', '0', '1', '1', '1', '0', '1', '1', '0', '1', '1', '0', '0', '1', '0', '1', '1', '1', '1', '0', '1', '0', '0', '0', '0', '1', '0', '0', '1', '1', '1', '1', '0', '1', '1', '0', '1', '0', '1', '1', '1', '0', '0', '1', '1', '0', '0', '1', '1', '1', '1', '1', '1', '0', '1', '1', '1', '0', '1', '1', '0', '0', '1', '0', '0', '0', '0', '1', '1', '1', '0', '0', '1', '0', '1', '0', '0', '0', '0', '1', '0', '0', '1', '1', '1', '1', '0', '1', '0', '0', '0', '0', '1', '0', '1', '0', '0', '1', '0', '1', '1', '1', '0', '0', '0', '0', '0', '1', '0', '1', '1', '1', '1', '0', '0', '1', '1', '0', '0', '1', '1', '1', '1', '1', '0', '1', '1', '0', '1', '0', '0', '0', '1', '0', '0', '1', '0', '0', '0', '1', '0', '0', '0', '0', '0', '0', '1', '0', '0', '0', '0', '1', '0', '0', '1', '1', '0', '0', '1', '0', '1', '1', '1', '1', '0', '0', '0', '0', '1', '0', '0', '1', '1', '1', '1', '0', '0', '1', '0', '0', '1', '1', '0', '1', '1', '1', '1', '1', '1', '0', '0', '1', '1', '0', '0', '1', '1', '1', '0', '0', '0', '0', '1', '1', '1', '0', '0', '0', '0', '1', '0', '0', '1', '0', '0', '0', '0', '1', '0', '1', '0', '1', '1', '0', '1', '1', '1', '0', '1', '0', '0', '1', '0', '1', '0', '0', '1', '0', '0', '0', '1', '0', '0', '1', '0', '1', '0', '1', '1', '0', '1', '1', '1', '0', '0', '0', '1', '1', '1', '0', '0', '1', '1', '0', '0', '0', '1', '0', '1', '1', '1', '0', '0', '1', '1', '0', '1', '0', '0', '1', '1', '1', '0', '1', '0', '0', '1', '0', '0', '0', '0', '0', '1', '1', '1', '1', '1', '0', '0', '1', '1', '0', '0', '0', '1', '1', '0', '1', '0', '1', '1', '0', '0', '0', '1', '0', '1', '1', '0', '0', '0', '0', '0', '1', '0', '0', '0', '1', '0', '1', '0', '0', '1', '1', '1', '1', '1', '0', '0', '0', '0', '1', '1', '0', '1', '1', '0', '1', '0', '1', '1', '1', '1', '1', '1', '0', '1', '0', '0', '0', '1', '1', '0', '1', '0', '1', '1', '0', '0', '1', '1', '0', '1', '0', '1', '0', '0', '0', '0', '1', '1', '1', '1', '0', '1', '0', '1', '0', '1', '1', '1', '0', '0', '0', '0', '1', '0', '0', '0', '1', '1', '1', '1', '1', '1', '0', '1', '1', '0', '0', '0', '0', '1', '0', '1', '1', '0', '1', '0', '0', '1', '0', '1', '0', '0', '1', '1', '0', '0', '0', '1', '0', '0', '0', '0', '1', '1', '0', '1', '0', '0', '0', '0', '0', '1', '0', '1', '0', '1', '1', '1', '1', '1', '1', '0', '1', '0', '0', '1', '1', '1', '1', '1', '1', '0', '1', '1', '1', '1', '1', '0', '0', '0', '1', '1', '1', '0', '1', '0', '1', '0', '1', '1', '0', '0', '1', '1', '1', '1', '1', '0', '0', '0', '1', '1', '1', '1', '1', '1', '1', '0', '0', '1', '0', '0', '1', '0', '0', '1', '0', '1', '1', '0', '0', '1', '1', '0', '1', '1', '0', '1', '1', '0', '0', '1', '1', '1', '1', '0', '0', '1', '0', '1', '0', '1', '0', '1', '1', '0', '0', '1', '1', '1', '0', '1', '1', '1', '1', '0', '1', '0', '1', '1', '1', '0', '0', '1', '1', '1', '1', '0', '1', '1', '1', '1', '0', '0', '1', '1', '0', '1', '0', '1', '1', '0', '0', '0', '0', '1', '0', '0', '0', '1', '0', '0', '1', '0', '0', '1', '0', '1', '1', '1', '0', '1', '1', '1', '0', '1', '0', '0', '0', '1', '0', '1', '0', '0', '1', '1', '1', '1', '0', '1', '1', '1', '0', '1', '1', '1', '0', '0', '1', '0', '1', '0', '1', '1', '0', '0', '1', '0', '1', '0', '0', '0', '1', '0', '1', '1', '1', '1', '1', '0', '0', '1', '1', '1', '1', '1', '0', '0', '0', '1', '1', '0', '0', '1', '1', '1', '0', '0', '1', '1', '1', '1', '0', '1', '1', '1', '0', '1', '1', '1', '1', '0', '0', '1', '0', '1', '0', '1', '1', '1', '1', '1', '1', '0', '1', '1', '1', '0', '1', '1', '1', '0', '1', '0', '0', '1', '1', '0', '0', '1', '1', '0', '1', '1', '0', '0', '1', '0', '0', '0']\n"
     ]
    }
   ],
   "source": [
    "print(newOutput)"
   ]
  },
  {
   "cell_type": "code",
   "execution_count": 228,
   "metadata": {},
   "outputs": [],
   "source": [
    "y =  pd.DataFrame(data=newOutput,columns=[\"label\"]) \n",
    "y.to_csv(\"clssfy_points.csv\",index = False)"
   ]
  },
  {
   "cell_type": "code",
   "execution_count": null,
   "metadata": {},
   "outputs": [],
   "source": []
  }
 ],
 "metadata": {
  "kernelspec": {
   "display_name": "Python 3",
   "language": "python",
   "name": "python3"
  },
  "language_info": {
   "codemirror_mode": {
    "name": "ipython",
    "version": 3
   },
   "file_extension": ".py",
   "mimetype": "text/x-python",
   "name": "python",
   "nbconvert_exporter": "python",
   "pygments_lexer": "ipython3",
   "version": "3.7.3"
  }
 },
 "nbformat": 4,
 "nbformat_minor": 2
}
