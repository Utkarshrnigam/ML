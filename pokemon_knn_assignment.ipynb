{
 "cells": [
  {
   "cell_type": "code",
   "execution_count": 37,
   "metadata": {},
   "outputs": [],
   "source": [
    "import pandas as pd\n",
    "import numpy as np\n",
    "import matplotlib.pyplot as plt\n",
    "import cv2"
   ]
  },
  {
   "cell_type": "code",
   "execution_count": 38,
   "metadata": {},
   "outputs": [],
   "source": [
    "df = pd.read_csv('Dataset/pokemon/train.csv')"
   ]
  },
  {
   "cell_type": "code",
   "execution_count": 39,
   "metadata": {},
   "outputs": [
    {
     "name": "stdout",
     "output_type": "stream",
     "text": [
      "(304, 2)\n"
     ]
    }
   ],
   "source": [
    "X = df.values\n",
    "print(X.shape)\n",
    "X_values = []\n",
    "Y_values = []"
   ]
  },
  {
   "cell_type": "code",
   "execution_count": 40,
   "metadata": {},
   "outputs": [],
   "source": [
    "m = X.shape[0]\n",
    "for i in range(m):\n",
    "    title = X[i][0]\n",
    "    img = cv2.imread(\"Dataset/pokemon/Images/\"+title)\n",
    "    try:\n",
    "        if img == None:\n",
    "            continue\n",
    "    except:\n",
    "        img = cv2.resize(img,(300,300))\n",
    "        img = img.flatten()\n",
    "        X_values.append(img)\n",
    "        Y_values.append(X[i][1])\n",
    "    \n",
    "    "
   ]
  },
  {
   "cell_type": "code",
   "execution_count": 41,
   "metadata": {},
   "outputs": [
    {
     "name": "stdout",
     "output_type": "stream",
     "text": [
      "(136, 270000)\n"
     ]
    }
   ],
   "source": [
    "X_values = np.array(X_values)\n",
    "Y_values = np.array(Y_values)\n",
    "print(X_values.shape)"
   ]
  },
  {
   "cell_type": "code",
   "execution_count": 42,
   "metadata": {},
   "outputs": [],
   "source": [
    "def distance(p1,p2):\n",
    "    return (np.sum((p2-p1)**2))**0.5"
   ]
  },
  {
   "cell_type": "code",
   "execution_count": 49,
   "metadata": {},
   "outputs": [],
   "source": [
    "def knn(X,Y,test,k=7):\n",
    "    m=X.shape[0]\n",
    "    d=[]\n",
    "    for i in range(m):\n",
    "        dist = distance(X[i],test)\n",
    "        d.append((dist,Y[i]))\n",
    "    d = np.array(sorted(d))[:,1]\n",
    "    d = d[:k]\n",
    "    t = np.unique(d,return_counts=True)\n",
    "    idx = np.argmax(t[1])\n",
    "    pred = t[0][idx]\n",
    "    \n",
    "    return pred"
   ]
  },
  {
   "cell_type": "code",
   "execution_count": 44,
   "metadata": {},
   "outputs": [],
   "source": [
    "df_test = pd.read_csv('Dataset/pokemon/test.csv')"
   ]
  },
  {
   "cell_type": "code",
   "execution_count": 45,
   "metadata": {},
   "outputs": [
    {
     "name": "stdout",
     "output_type": "stream",
     "text": [
      "2236.jpg\n"
     ]
    }
   ],
   "source": [
    "test = df_test.values\n",
    "print(test[1][0])"
   ]
  },
  {
   "cell_type": "code",
   "execution_count": 46,
   "metadata": {},
   "outputs": [],
   "source": [
    "n = test.shape[0]\n",
    "X_test = []\n",
    "title_out = []\n",
    "for i in range(n):\n",
    "    title = test[i][0]\n",
    "    img = cv2.imread(\"Dataset/pokemon/Images/\"+title)\n",
    "    try:\n",
    "        if img == None:\n",
    "            continue\n",
    "\n",
    "    except:\n",
    "        img = cv2.resize(img,(300,300))\n",
    "        img = img.flatten()\n",
    "        title_out.append(title)\n",
    "        X_test.append(img)\n",
    "title_out = np.array(title_out)"
   ]
  },
  {
   "cell_type": "code",
   "execution_count": 50,
   "metadata": {},
   "outputs": [
    {
     "name": "stdout",
     "output_type": "stream",
     "text": [
      "(123, 2)\n",
      "[['1106.jpg' 'Pikachu']\n",
      " ['2236.jpg' 'Pikachu']\n",
      " ['1131.jpg' 'Bulbasaur']\n",
      " ['2221.jpg' 'Pikachu']\n",
      " ['2011.jpg' 'Pikachu']\n",
      " ['2030.jpg' 'Charmander']\n",
      " ['2035.jpg' 'Pikachu']\n",
      " ['1110.jpg' 'Bulbasaur']\n",
      " ['1104.jpg' 'Bulbasaur']\n",
      " ['2217.jpg' 'Pikachu']\n",
      " ['1111.jpg' 'Pikachu']\n",
      " ['1100.jpg' 'Bulbasaur']\n",
      " ['1112.jpg' 'Bulbasaur']\n",
      " ['1138.jpg' 'Bulbasaur']\n",
      " ['2238.jpg' 'Charmander']\n",
      " ['2009.jpg' 'Pikachu']\n",
      " ['2225.jpg' 'Pikachu']\n",
      " ['2240.jpg' 'Pikachu']\n",
      " ['2020.jpg' 'Pikachu']\n",
      " ['2209.jpg' 'Pikachu']\n",
      " ['2029.jpg' 'Pikachu']\n",
      " ['1114.jpg' 'Bulbasaur']\n",
      " ['2201.jpg' 'Pikachu']\n",
      " ['1118.jpg' 'Pikachu']\n",
      " ['2025.jpg' 'Pikachu']\n",
      " ['2202.jpg' 'Pikachu']\n",
      " ['1117.jpg' 'Bulbasaur']\n",
      " ['1119.jpg' 'Bulbasaur']\n",
      " ['2000.jpg' 'Pikachu']\n",
      " ['2007.jpg' 'Bulbasaur']\n",
      " ['2039.jpg' 'Pikachu']\n",
      " ['2017.jpg' 'Pikachu']\n",
      " ['2215.jpg' 'Pikachu']\n",
      " ['1120.jpg' 'Pikachu']\n",
      " ['2006.jpg' 'Pikachu']\n",
      " ['1116.jpg' 'Pikachu']\n",
      " ['1128.jpg' 'Bulbasaur']\n",
      " ['1125.jpg' 'Bulbasaur']\n",
      " ['2203.jpg' 'Charmander']\n",
      " ['1133.jpg' 'Pikachu']\n",
      " ['1137.jpg' 'Pikachu']\n",
      " ['2220.jpg' 'Pikachu']\n",
      " ['2012.jpg' 'Bulbasaur']\n",
      " ['2224.jpg' 'Pikachu']\n",
      " ['2206.jpg' 'Pikachu']\n",
      " ['1122.jpg' 'Pikachu']\n",
      " ['2223.jpg' 'Pikachu']\n",
      " ['1102.jpg' 'Bulbasaur']\n",
      " ['2234.jpg' 'Charmander']\n",
      " ['2216.jpg' 'Charmander']\n",
      " ['2016.jpg' 'Pikachu']\n",
      " ['2227.jpg' 'Pikachu']\n",
      " ['2013.jpg' 'Pikachu']\n",
      " ['1113.jpg' 'Bulbasaur']\n",
      " ['2204.jpg' 'Pikachu']\n",
      " ['1101.jpg' 'Pikachu']\n",
      " ['2208.jpg' 'Pikachu']\n",
      " ['2024.jpg' 'Pikachu']\n",
      " ['2031.jpg' 'Charmander']\n",
      " ['2222.jpg' 'Charmander']\n",
      " ['2211.jpg' 'Pikachu']\n",
      " ['2033.jpg' 'Pikachu']\n",
      " ['2213.jpg' 'Pikachu']\n",
      " ['2231.jpg' 'Pikachu']\n",
      " ['2001.jpg' 'Charmander']\n",
      " ['2040.jpg' 'Pikachu']\n",
      " ['1127.jpg' 'Pikachu']\n",
      " ['2023.jpg' 'Pikachu']\n",
      " ['2015.jpg' 'Charmander']\n",
      " ['1121.jpg' 'Pikachu']\n",
      " ['2232.jpg' 'Pikachu']\n",
      " ['1139.jpg' 'Pikachu']\n",
      " ['1103.jpg' 'Bulbasaur']\n",
      " ['2018.jpg' 'Pikachu']\n",
      " ['2233.jpg' 'Pikachu']\n",
      " ['2212.jpg' 'Bulbasaur']\n",
      " ['2210.jpg' 'Pikachu']\n",
      " ['2228.jpg' 'Charmander']\n",
      " ['2026.jpg' 'Pikachu']\n",
      " ['1132.jpg' 'Pikachu']\n",
      " ['2003.jpg' 'Pikachu']\n",
      " ['1129.jpg' 'Bulbasaur']\n",
      " ['2214.jpg' 'Pikachu']\n",
      " ['1123.jpg' 'Pikachu']\n",
      " ['2004.jpg' 'Pikachu']\n",
      " ['1136.jpg' 'Pikachu']\n",
      " ['1140.jpg' 'Pikachu']\n",
      " ['2226.jpg' 'Pikachu']\n",
      " ['2230.jpg' 'Pikachu']\n",
      " ['1135.jpg' 'Bulbasaur']\n",
      " ['1105.jpg' 'Pikachu']\n",
      " ['2237.jpg' 'Bulbasaur']\n",
      " ['1109.jpg' 'Bulbasaur']\n",
      " ['2022.jpg' 'Pikachu']\n",
      " ['2005.jpg' 'Pikachu']\n",
      " ['2218.jpg' 'Pikachu']\n",
      " ['2036.jpg' 'Pikachu']\n",
      " ['1115.jpg' 'Bulbasaur']\n",
      " ['2032.jpg' 'Pikachu']\n",
      " ['2200.jpg' 'Pikachu']\n",
      " ['1134.jpg' 'Bulbasaur']\n",
      " ['1130.jpg' 'Bulbasaur']\n",
      " ['1107.jpg' 'Bulbasaur']\n",
      " ['2034.jpg' 'Pikachu']\n",
      " ['2205.jpg' 'Pikachu']\n",
      " ['2008.jpg' 'Bulbasaur']\n",
      " ['2027.jpg' 'Charmander']\n",
      " ['2028.jpg' 'Pikachu']\n",
      " ['2239.jpg' 'Pikachu']\n",
      " ['1108.jpg' 'Pikachu']\n",
      " ['2010.jpg' 'Pikachu']\n",
      " ['2229.jpg' 'Bulbasaur']\n",
      " ['2219.jpg' 'Pikachu']\n",
      " ['2019.jpg' 'Bulbasaur']\n",
      " ['2207.jpg' 'Pikachu']\n",
      " ['2002.jpg' 'Pikachu']\n",
      " ['2037.jpg' 'Pikachu']\n",
      " ['2038.jpg' 'Pikachu']\n",
      " ['1124.jpg' 'Charmander']\n",
      " ['2014.jpg' 'Pikachu']\n",
      " ['2235.jpg' 'Bulbasaur']\n",
      " ['1126.jpg' 'Bulbasaur']\n",
      " ['2021.jpg' 'Pikachu']]\n"
     ]
    }
   ],
   "source": [
    "output = []\n",
    "\n",
    "n = test.shape[0]\n",
    "for j in range(n):\n",
    "    out = knn(X_values,Y_values,X_test[j])\n",
    "    output.append(out)\n",
    "output = np.array(output)\n",
    "output = np.reshape(output,(-1,1))\n",
    "title_out = np.array(title_out)\n",
    "title_out = np.reshape(title_out,(-1,1))\n",
    "\n",
    "data = np.hstack((title_out,output))\n",
    "print(data.shape)\n",
    "print(data)"
   ]
  },
  {
   "cell_type": "code",
   "execution_count": 51,
   "metadata": {},
   "outputs": [],
   "source": [
    "y =  pd.DataFrame(data=data,columns=[\"ImageId\",\"NameOfPokemon\"]) \n",
    "y.to_csv(\"pokemon2.csv\",index = False)"
   ]
  },
  {
   "cell_type": "code",
   "execution_count": null,
   "metadata": {},
   "outputs": [],
   "source": []
  },
  {
   "cell_type": "code",
   "execution_count": null,
   "metadata": {},
   "outputs": [],
   "source": []
  },
  {
   "cell_type": "code",
   "execution_count": null,
   "metadata": {},
   "outputs": [],
   "source": []
  }
 ],
 "metadata": {
  "kernelspec": {
   "display_name": "Python 3",
   "language": "python",
   "name": "python3"
  },
  "language_info": {
   "codemirror_mode": {
    "name": "ipython",
    "version": 3
   },
   "file_extension": ".py",
   "mimetype": "text/x-python",
   "name": "python",
   "nbconvert_exporter": "python",
   "pygments_lexer": "ipython3",
   "version": "3.7.3"
  }
 },
 "nbformat": 4,
 "nbformat_minor": 2
}
