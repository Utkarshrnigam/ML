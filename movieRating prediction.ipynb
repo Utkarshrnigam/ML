{
 "cells": [
  {
   "cell_type": "code",
   "execution_count": 17,
   "metadata": {},
   "outputs": [],
   "source": [
    "import numpy as np\n",
    "import pandas as pd"
   ]
  },
  {
   "cell_type": "code",
   "execution_count": 45,
   "metadata": {},
   "outputs": [],
   "source": [
    "train = pd.read_csv(\"C:/Users/ASUS/Desktop/p/ML/ML/Dataset/naive_bayes/NLP_movieRating/Train.csv\")\n",
    "test = pd.read_csv(\"C:/Users/ASUS/Desktop/p/ML/ML/Dataset/naive_bayes/NLP_movieRating/Test.csv\")"
   ]
  },
  {
   "cell_type": "code",
   "execution_count": 46,
   "metadata": {},
   "outputs": [
    {
     "name": "stdout",
     "output_type": "stream",
     "text": [
      "(40000, 2)\n",
      "mature intelligent and highly charged melodrama unbelivebly filmed in China in 1948. wei wei's stunning performance as the catylast in a love triangle is simply stunning if you have the oppurunity to see this magnificent film take it\n"
     ]
    }
   ],
   "source": [
    "train = train.values\n",
    "test = test.values\n",
    "print(train.shape)\n",
    "print(train[0][0])"
   ]
  },
  {
   "cell_type": "code",
   "execution_count": 20,
   "metadata": {},
   "outputs": [],
   "source": [
    "from nltk.tokenize import RegexpTokenizer\n",
    "from nltk.stem.porter import PorterStemmer\n",
    "from nltk.corpus import stopwords"
   ]
  },
  {
   "cell_type": "code",
   "execution_count": 21,
   "metadata": {},
   "outputs": [],
   "source": [
    "tokenizer = RegexpTokenizer(\"[a-zA-Z]+\")\n",
    "ps = PorterStemmer()\n",
    "stopwords_list = set(stopwords.words('english'))"
   ]
  },
  {
   "cell_type": "code",
   "execution_count": 22,
   "metadata": {},
   "outputs": [],
   "source": [
    "def clean_data(review):\n",
    "    review = review.lower()\n",
    "    review = review.replace(\"<br /><br />\",\" \")\n",
    "    tokens = tokenizer.tokenize(review)\n",
    "    \n",
    "    new_tokens = [token for token in tokens if token not in stopwords_list]\n",
    "    \n",
    "    tokens = [ps.stem(token) for token in new_tokens]\n",
    "    \n",
    "    review = ' '.join(tokens)\n",
    "    \n",
    "    return review"
   ]
  },
  {
   "cell_type": "code",
   "execution_count": 47,
   "metadata": {},
   "outputs": [
    {
     "name": "stdout",
     "output_type": "stream",
     "text": [
      "think lot peopl wrote anoth one tom cruis weird movi magnolia eye wide shut vanilla sky definit movi mani peopl said weird differ confus weird weird stanley kubrick pauli shore differ truman show confus matrix game unlik kubrick movi conclus everyth make sens mayb immedi mayb even today make sens vanilla sky confus david aam tom cruis confus point call weird turn critic away came bother open eye origin spanish movi would seen enough reason see go see music cameron crow offer wonder soundtrack use set feel notori element mani movi lack song like beach boy good vibrat play dramat emot climax movi creat offbeat yet astoundingli right feel wonder film script music act imag vanilla sky sadli superfici bandwagon movi critic chide order appear intellig excel\n"
     ]
    }
   ],
   "source": [
    "clean_r = clean_data(train[3][0])\n",
    "print(clean_r)"
   ]
  },
  {
   "cell_type": "code",
   "execution_count": 49,
   "metadata": {},
   "outputs": [],
   "source": [
    "m = train.shape[0]\n",
    "for i in range(m):\n",
    "    train[i][0] = clean_data(train[i][0])"
   ]
  },
  {
   "cell_type": "code",
   "execution_count": 50,
   "metadata": {},
   "outputs": [
    {
     "name": "stdout",
     "output_type": "stream",
     "text": [
      "http video googl com videoplay docid hl en distribut tri opt mass appeal want best possibl view rang forgo profit continu manual labor job gladli entertain work view texa tale pleas write like like alex like stuie texa texa tale write opinion rule\n"
     ]
    }
   ],
   "source": [
    "print(train[1][0])"
   ]
  },
  {
   "cell_type": "code",
   "execution_count": 51,
   "metadata": {},
   "outputs": [
    {
     "name": "stdout",
     "output_type": "stream",
     "text": [
      "matur intellig highli charg melodrama unbelivebl film china wei wei stun perform catylast love triangl simpli stun oppurun see magnific film take\n"
     ]
    }
   ],
   "source": [
    "train_x = train[:,0]\n",
    "print(train_x[0])\n"
   ]
  },
  {
   "cell_type": "code",
   "execution_count": 28,
   "metadata": {},
   "outputs": [],
   "source": [
    "corpus = []\n",
    "for i in range(m):\n",
    "    corpus.append(train_x[i])"
   ]
  },
  {
   "cell_type": "code",
   "execution_count": 52,
   "metadata": {},
   "outputs": [
    {
     "data": {
      "text/plain": [
       "40000"
      ]
     },
     "execution_count": 52,
     "metadata": {},
     "output_type": "execute_result"
    }
   ],
   "source": [
    "len(corpus)"
   ]
  },
  {
   "cell_type": "code",
   "execution_count": 53,
   "metadata": {},
   "outputs": [],
   "source": [
    "from sklearn.feature_extraction.text import TfidfVectorizer\n",
    "from sklearn.feature_extraction.text import CountVectorizer"
   ]
  },
  {
   "cell_type": "code",
   "execution_count": 69,
   "metadata": {},
   "outputs": [],
   "source": [
    "cv = CountVectorizer()\n",
    "\n",
    "C_vectorized = cv.fit_transform(corpus[:10000]).toarray()"
   ]
  },
  {
   "cell_type": "code",
   "execution_count": 70,
   "metadata": {},
   "outputs": [
    {
     "name": "stdout",
     "output_type": "stream",
     "text": [
      "(10000, 34725)\n"
     ]
    }
   ],
   "source": [
    "print(C_vectorized.shape)"
   ]
  },
  {
   "cell_type": "code",
   "execution_count": 41,
   "metadata": {},
   "outputs": [
    {
     "name": "stdout",
     "output_type": "stream",
     "text": [
      "[[0.         0.         0.         0.18898224 0.18898224 0.18898224\n",
      "  0.         0.         0.         0.         0.         0.\n",
      "  0.37796447 0.         0.         0.         0.18898224 0.\n",
      "  0.         0.18898224 0.         0.         0.         0.18898224\n",
      "  0.18898224 0.         0.         0.18898224 0.18898224 0.\n",
      "  0.18898224 0.         0.18898224 0.         0.         0.\n",
      "  0.         0.         0.18898224 0.18898224 0.         0.37796447\n",
      "  0.18898224 0.         0.         0.         0.18898224 0.18898224\n",
      "  0.         0.         0.         0.         0.37796447 0.\n",
      "  0.        ]\n",
      " [0.12803688 0.12803688 0.12803688 0.         0.         0.\n",
      "  0.12803688 0.12803688 0.12803688 0.12803688 0.12803688 0.12803688\n",
      "  0.         0.12803688 0.12803688 0.12803688 0.         0.12803688\n",
      "  0.12803688 0.         0.12803688 0.12803688 0.38411064 0.\n",
      "  0.         0.12803688 0.12803688 0.         0.         0.12803688\n",
      "  0.         0.12803688 0.         0.12803688 0.12803688 0.12803688\n",
      "  0.12803688 0.12803688 0.         0.         0.12803688 0.\n",
      "  0.         0.25607376 0.38411064 0.12803688 0.         0.\n",
      "  0.12803688 0.12803688 0.25607376 0.12803688 0.         0.12803688\n",
      "  0.25607376]]\n"
     ]
    }
   ],
   "source": [
    "tf_Idfv = TfidfVectorizer()\n",
    "vd = tf_Idfv.fit_transform(corpus[:2]).toarray()\n",
    "print(vd)"
   ]
  },
  {
   "cell_type": "code",
   "execution_count": 22,
   "metadata": {},
   "outputs": [
    {
     "name": "stdout",
     "output_type": "stream",
     "text": [
      "  (0, 56815)\t0.07661023241393401\n",
      "  (0, 35311)\t0.15932970220343154\n",
      "  (0, 51132)\t0.05814713776030592\n",
      "  (0, 41872)\t0.32072510271359383\n",
      "  (0, 52684)\t0.10986245520907655\n",
      "  (0, 59288)\t0.1993260954472203\n",
      "  (0, 34594)\t0.07181988726449975\n",
      "  (0, 10402)\t0.32072510271359383\n",
      "  (0, 43686)\t0.0836395232217253\n",
      "  (0, 55598)\t0.2975060557491606\n",
      "  (0, 63325)\t0.5467674805155153\n",
      "  (0, 430)\t0.21832497432605236\n",
      "  (0, 11291)\t0.18206281256907236\n",
      "  (0, 20903)\t0.08939989082560039\n",
      "  (0, 60314)\t0.32072510271359383\n",
      "  (0, 37086)\t0.17373289152401983\n",
      "  (0, 10867)\t0.16057364410744343\n",
      "  (0, 26775)\t0.12240168064316595\n",
      "  (0, 29108)\t0.1313126267533847\n",
      "  (0, 36382)\t0.16838649875093295\n",
      "  (1, 49457)\t0.11659126499358144\n",
      "  (1, 41842)\t0.09726362146467178\n",
      "  (1, 55590)\t0.23224187971292845\n",
      "  (1, 2594)\t0.14088644742102432\n",
      "  (1, 33852)\t0.11567033772396583\n",
      "  :\t:\n",
      "  (39999, 2790)\t0.09725128354888689\n",
      "  (39999, 50367)\t0.06591573382896147\n",
      "  (39999, 22440)\t0.0804033355325528\n",
      "  (39999, 27377)\t0.09062446637335446\n",
      "  (39999, 43673)\t0.10102374127054727\n",
      "  (39999, 44579)\t0.06525781555750722\n",
      "  (39999, 63197)\t0.06246306446591916\n",
      "  (39999, 19502)\t0.05469560618163265\n",
      "  (39999, 3645)\t0.08830736131031704\n",
      "  (39999, 58272)\t0.04977243305087743\n",
      "  (39999, 55586)\t0.10974932280927246\n",
      "  (39999, 12478)\t0.13544668472479038\n",
      "  (39999, 41969)\t0.08498424865102953\n",
      "  (39999, 47329)\t0.2320862138816076\n",
      "  (39999, 64493)\t0.05616260371756393\n",
      "  (39999, 22174)\t0.08618419864439138\n",
      "  (39999, 35452)\t0.05127716230190426\n",
      "  (39999, 23880)\t0.18448277670371468\n",
      "  (39999, 4950)\t0.08779936796606888\n",
      "  (39999, 51158)\t0.06693604624686758\n",
      "  (39999, 38956)\t0.11326836837661892\n",
      "  (39999, 6649)\t0.0695654574907244\n",
      "  (39999, 62988)\t0.0682713113565894\n",
      "  (39999, 51132)\t0.15612097919167725\n",
      "  (39999, 34594)\t0.12855423393197335\n"
     ]
    }
   ],
   "source": [
    "print(vd)"
   ]
  },
  {
   "cell_type": "code",
   "execution_count": null,
   "metadata": {},
   "outputs": [],
   "source": []
  }
 ],
 "metadata": {
  "kernelspec": {
   "display_name": "Python 3",
   "language": "python",
   "name": "python3"
  },
  "language_info": {
   "codemirror_mode": {
    "name": "ipython",
    "version": 3
   },
   "file_extension": ".py",
   "mimetype": "text/x-python",
   "name": "python",
   "nbconvert_exporter": "python",
   "pygments_lexer": "ipython3",
   "version": "3.7.3"
  }
 },
 "nbformat": 4,
 "nbformat_minor": 2
}
